{
 "cells": [
  {
   "cell_type": "code",
   "execution_count": 1,
   "metadata": {},
   "outputs": [],
   "source": [
    "import requests\n",
    "import shopify\n",
    "from bs4 import BeautifulSoup\n",
    "import logging\n",
    "from dotenv import load_dotenv\n",
    "import os\n",
    "\n",
    "logging.basicConfig(level=logging.ERROR)\n",
    "\n",
    "shop_url = \"https://429eef-90.myshopify.com/\"\n",
    "api_version = '2024-01'\n",
    "# state = binascii.b2a_hex(os.urandom(15)).decode(\"utf-8\")\n",
    "# redirect_uri = \"http://myapp.com/auth/shopify/callback\"\n",
    "# scopes = ['read_apps', 'write_files', 'read_files', 'write_products', 'read_products', 'read_content', 'write_content', 'write_product_feeds', 'read_product_feeds', 'write_product_listings', 'read_product_listings']\n",
    "\n",
    "load_dotenv()\n",
    "access_token = (os.getenv('access_token'))\n",
    "\n",
    "session = shopify.Session(shop_url, api_version, access_token)\n",
    "shopify.ShopifyResource.activate_session(session)\n"
   ]
  },
  {
   "cell_type": "code",
   "execution_count": 2,
   "metadata": {},
   "outputs": [],
   "source": [
    "\n",
    "variant = 'luxury'\n",
    "search_term = f\"*{variant}*\"\n",
    "# variant_id\n",
    "products = shopify.Product.find(query=search_term)"
   ]
  },
  {
   "cell_type": "code",
   "execution_count": 3,
   "metadata": {},
   "outputs": [
    {
     "data": {
      "text/plain": [
       "[product(8774006112586),\n",
       " product(8766892900682),\n",
       " product(8764450046282),\n",
       " product(8764450308426),\n",
       " product(8766889066826),\n",
       " product(8764450570570),\n",
       " product(8764450701642),\n",
       " product(8764465611082),\n",
       " product(8766898536778),\n",
       " product(8764465676618),\n",
       " product(8764465807690),\n",
       " product(8766894178634),\n",
       " product(8764465873226),\n",
       " product(8766894571850),\n",
       " product(8764466037066),\n",
       " product(8766894997834),\n",
       " product(8764466135370),\n",
       " product(8764466397514),\n",
       " product(8764466757962),\n",
       " product(8764466954570),\n",
       " product(8764466987338),\n",
       " product(8766889722186),\n",
       " product(8764467052874),\n",
       " product(8774042550602),\n",
       " product(8766868324682),\n",
       " product(8764467249482),\n",
       " product(8766879924554),\n",
       " product(8764467413322),\n",
       " product(8766893523274),\n",
       " product(8764467511626),\n",
       " product(8764467642698),\n",
       " product(8766868783434),\n",
       " product(8766876877130),\n",
       " product(8764467708234),\n",
       " product(8764467937610),\n",
       " product(8774014107978),\n",
       " product(8774014370122),\n",
       " product(8764468166986),\n",
       " product(8766879367498),\n",
       " product(8764468265290),\n",
       " product(8764468461898),\n",
       " product(8764468494666),\n",
       " product(8766878318922),\n",
       " product(8766899257674),\n",
       " product(8764468658506),\n",
       " product(8764468920650),\n",
       " product(8764469215562),\n",
       " product(8764501295434),\n",
       " product(8766868128074),\n",
       " product(8766868619594)]"
      ]
     },
     "execution_count": 3,
     "metadata": {},
     "output_type": "execute_result"
    }
   ],
   "source": [
    "products"
   ]
  },
  {
   "cell_type": "code",
   "execution_count": 4,
   "metadata": {},
   "outputs": [],
   "source": [
    "class Product:\n",
    "    def __init__(self, name, spu, imgs, url, detail=None):\n",
    "        self.name = name\n",
    "        self.detail = \"\"\"\n",
    "\n",
    "        <div class=\"value\"><p><span style=\"font-weight: 400;\">Gel Polish is a new generation of nails care!</span></p>\n",
    "<p><span style=\"font-weight: 400;\">Forget about not lasting and peeling off colors, experience super shiny lasting and incredible quality of ReformA Gel Polishes.</span></p>\n",
    "<p><span style=\"font-weight: 400;\">Nine reasons thanks to which you will love them:</span></p>\n",
    "<ol>\n",
    "<li aria-level=\"1\" style=\"font-weight: 400;\"><span style=\"font-weight: 400;\">They have beautiful colors, you can find juicy neons as well as delicate nudes and all shades between them - a total of over 300 and we still introduce new ones!</span></li>\n",
    "<li aria-level=\"1\" style=\"font-weight: 400;\"><span style=\"font-weight: 400;\">Even a beginner could apply them easily - they have consistence of yoghurt so you can spread them comfortably.</span></li>\n",
    "<li aria-level=\"1\" style=\"font-weight: 400;\"><span style=\"font-weight: 400;\">They have delicate smell.</span></li>\n",
    "<li aria-level=\"1\" style=\"font-weight: 400;\"><span style=\"font-weight: 400;\">They cure fast so you save time and protect nails.</span></li>\n",
    "<li aria-level=\"1\" style=\"font-weight: 400;\"><span style=\"font-weight: 400;\">They are self-levelling and have good adhesion to natural nails, gel, acrylic and acrylic gel.</span></li>\n",
    "<li aria-level=\"1\" style=\"font-weight: 400;\"><span style=\"font-weight: 400;\">They are ideal for manicure and pedicure.</span></li>\n",
    "<li aria-level=\"1\" style=\"font-weight: 400;\"><span style=\"font-weight: 400;\">They are incredibly lasting.</span></li>\n",
    "<li aria-level=\"1\" style=\"font-weight: 400;\"><span style=\"font-weight: 400;\">They don't peel or flake off.</span></li>\n",
    "<li aria-level=\"1\" style=\"font-weight: 400;\"><span style=\"font-weight: 400;\">They guarantee beautiful covering after applying 1-2 layers.</span></li>\n",
    "</ol>\n",
    "<p><span style=\"font-weight: 400;\"> </span></p>\n",
    "<p><span style=\"font-weight: 400;\">All gel polishes are available in bottles with brushes of capacity 10ml, and some of them also in bottles of capacity 3ml.</span></p>\n",
    "<p><span style=\"font-weight: 400;\">Try also our incredible bases and tops.</span></p>\n",
    "<p><strong>ReformA Educator's advices:</strong></p>\n",
    "<p><span style=\"font-weight: 400;\">When you apply gel polish remember not to touch the underside with a brush.</span></p>\n",
    "<p><span style=\"font-weight: 400;\">Delicately stroking with a brush, apply gel polish in the air - then you will get smooth and beautiful surface.</span></p>\n",
    "<p><span style=\"font-weight: 400;\">Each color apply on cured base and at the end cover it with top.</span></p>\n",
    "<p><span style=\"font-weight: 400;\">Curing time in a UV lamp: 2 minutes, in an LED lamp: 1min - 20sec, in a 48W Dual LED lamp: 30 - 20sec.</span></p>\n",
    "<p><span style=\"font-weight: 400;\">The curing time of gel products and gel polishes depends on the power of lamp and bulbs, always check individually the curing time of gel or gel polish.</span></p>\n",
    "\"\"\"\n",
    "        if detail:\n",
    "            self.detail = detail\n",
    "        self.spu = spu\n",
    "        self.imgs = imgs\n",
    "        self.url = url\n",
    "        self.price = '10.00'\n",
    "        self.compare_at_price = '13.00'\n",
    "        self.grams = 15\n",
    "        self.weight = 0.015\n",
    "        self.vendor = 'Reforma'\n",
    "        self.product_type = 'Gel Polish'\n",
    "\n",
    "    def __str__(self):\n",
    "        return f\"Product: {self.name}, SPU: {self.spu}\"\n"
   ]
  },
  {
   "cell_type": "code",
   "execution_count": 5,
   "metadata": {},
   "outputs": [],
   "source": [
    "def get_search_results(url):\n",
    "    \"\"\"\n",
    "    Получает результаты поиска для заданного URL.\n",
    "    \"\"\"\n",
    "    try:\n",
    "        with requests.get(url) as response:\n",
    "            if response.status_code == 200:\n",
    "                return response.text\n",
    "            else:\n",
    "                logging.error(\"Ошибка при получении страницы с результатами поиска: %d\", response.status_code)\n",
    "                return None\n",
    "    except requests.RequestException as e:\n",
    "        logging.error(\"Ошибка при запросе страницы: %s\", str(e))\n",
    "        return None\n"
   ]
  },
  {
   "cell_type": "code",
   "execution_count": 43,
   "metadata": {},
   "outputs": [],
   "source": [
    "def extract_product_links(url):\n",
    "    \"\"\"\n",
    "    Извлекает ссылки на продукты из HTML-кода страницы с результатами поиска.\n",
    "    \"\"\"\n",
    "    html = get_search_results(url)\n",
    "    if html:\n",
    "        soup = BeautifulSoup(html, 'html.parser')\n",
    "        links = soup.find_all('h4')\n",
    "        return [h3.find('a')['href'] for h3 in links if h3.find('a')]\n",
    "    return None\n"
   ]
  },
  {
   "cell_type": "code",
   "execution_count": 7,
   "metadata": {},
   "outputs": [],
   "source": [
    "def UkRefSearch(sku):\n",
    "    \"\"\"\n",
    "    Извлекает ссылки на продукты из HTML-кода страницы с результатами поиска.\n",
    "    \"\"\"\n",
    "    url = 'https://reformacosmetics.com/search/?q='+str(sku)+'&s=%D0%9F%D0%BE%D1%88%D1%83%D0%BA'\n",
    "\n",
    "    html = get_search_results(url)\n",
    "    if html:\n",
    "        soup = BeautifulSoup(html, 'html.parser')\n",
    "        links = soup.find_all('a', class_='nm')\n",
    "        return [link['href'] for link in links]\n",
    "    return None\n"
   ]
  },
  {
   "cell_type": "code",
   "execution_count": 8,
   "metadata": {},
   "outputs": [
    {
     "data": {
      "text/plain": [
       "<function pyactiveresource.activeresource.ActiveResource.to_dict(self)>"
      ]
     },
     "execution_count": 8,
     "metadata": {},
     "output_type": "execute_result"
    }
   ],
   "source": [
    "shopify.Variant.to_dict\n"
   ]
  },
  {
   "cell_type": "code",
   "execution_count": 9,
   "metadata": {},
   "outputs": [],
   "source": [
    "def letsgo(page):\n",
    "    print()\n",
    "\n",
    "    # url = 'https://reforma.top/catalogsearch/result/?q=' + SPU + '&product_list_limit=144'\n",
    "    url = 'https://reforma.top/shop/nails/gel-polish/base-tops/?product_list_limit=144&p='+str(page)\n",
    "    print(url)\n",
    "    product_links = extract_product_links(url)\n",
    "    if product_links:\n",
    "        print(\"List created\")\n",
    "        return product_links\n",
    "        "
   ]
  },
  {
   "cell_type": "code",
   "execution_count": 30,
   "metadata": {},
   "outputs": [],
   "source": [
    "def extract_data_from_url(url):\n",
    "    \"\"\"\n",
    "    Extracts product data from the provided URL.\n",
    "    \"\"\"\n",
    "    try:\n",
    "        # Extract data from the URL\n",
    "        html = get_search_results(url)\n",
    "        if not html:\n",
    "            raise ValueError(\"Failed to fetch HTML content from the URL.\")\n",
    "\n",
    "        soup = BeautifulSoup(html, 'html.parser')\n",
    "        for a_tag in soup.find_all('a', href=True):\n",
    "            del a_tag['href']        \n",
    "        description_div = soup.find('div', id='tab-description')\n",
    "\n",
    "        # Remove h3 and li elements with data attribute 'data-number-of-phrases=\"9\"'\n",
    "        if description_div:\n",
    "            for element in description_div.find_all(['h3', 'li']):\n",
    "                if 'data-number-of-phrases=\"9\"' in str(element):\n",
    "                    element.extract()\n",
    "\n",
    "        # Convert the remaining div element to a string\n",
    "        detail = str(description_div) if description_div else \"\"\n",
    "        spu = soup.find('span', class_='sku').text\n",
    "        name = soup.find('h1',class_='product_title entry-title').text\n",
    "        imgs = [img.get('data-large_image') for img in soup.find_all('img',decoding=\"async\")]\n",
    "        # imgs =soup\n",
    "        \n",
    "        return Product(name, spu, imgs, url, detail=detail)\n",
    "    except Exception as e:\n",
    "        logging.error(f\"Failed to extract data from URL: {str(e)}\")\n",
    "        return None"
   ]
  },
  {
   "cell_type": "code",
   "execution_count": 11,
   "metadata": {},
   "outputs": [],
   "source": [
    "def create_product(product):\n",
    "    \"\"\"\n",
    "    Creates a new product on Shopify with the provided data.\n",
    "    \"\"\"\n",
    "    try:\n",
    "        Handle = product.url.split('/')[-1].replace('.html','')\n",
    "        product_shopify = shopify.Product.find(handle=Handle)\n",
    "        print(product.name)\n",
    "        Handle = product.name.rstrip().replace(\" - \", \" \").replace(\" \", \"-\").replace(\",\", \"\").casefold()\n",
    "        \n",
    "        if not product_shopify:\n",
    "            # Create a new product instance\n",
    "            product_shopify = shopify.Product()\n",
    "\n",
    "            # Set basic product details\n",
    "            product_shopify.title = product.name\n",
    "            product_shopify.handle = Handle\n",
    "            product_shopify.body_html = product.detail\n",
    "            product_shopify.vendor = product.vendor\n",
    "            product_shopify.product_type = product.product_type\n",
    "\n",
    "            # Create a default variant\n",
    "            default_variant = {\n",
    "                'title': 'Default Title',\n",
    "                'price': product.price,\n",
    "                'sku': product.spu,\n",
    "                'compare_at_price': product.compare_at_price,\n",
    "                'inventory_policy': 'deny',\n",
    "                'fulfillment_service': 'manual',\n",
    "                'inventory_management': 'shopify',\n",
    "                'option1': 'Default Title',\n",
    "                'taxable': True,\n",
    "                'grams': product.grams,\n",
    "                'weight': product.weight,\n",
    "                'weight_unit': 'kg',\n",
    "                'requires_shipping': True\n",
    "            }\n",
    "\n",
    "            # Create a Variant object for the default variant\n",
    "            variant = shopify.Variant(default_variant)\n",
    "\n",
    "            # Add the default variant to the product\n",
    "            product_shopify.variants = [variant]\n",
    "\n",
    "            # Add images to the product\n",
    "            half_len = len(product.imgs) // 2\n",
    "            images = [{'src': img_url, 'position': index, 'alt': product.name} for index, img_url in enumerate(product.imgs[:half_len], start=1)]\n",
    "            product_shopify.images = images\n",
    "            logging.info(\"Product created successfully!\")\n",
    "            print(\"Product created successfully!\")\n",
    "            product_shopify.save()\n",
    "\n",
    "        elif product_shopify[0].handle != Handle:\n",
    "            # Update the product title\n",
    "            product_shopify = product_shopify[0]\n",
    "            print()\n",
    "            print(product_shopify.handle)\n",
    "            print(Handle)\n",
    "            print()\n",
    "            product_shopify.handle = Handle\n",
    "\n",
    "            product_shopify.save()\n",
    "\n",
    "            print(\"Product mody successfully!\")\n",
    "\n",
    "        else:\n",
    "            # Update the product title\n",
    "            # product_shopify = product_shopify[0]\n",
    "            \n",
    "\n",
    "            # product_shopify.body_html = product.detail\n",
    "            # product_shopify.vendor = product.vendor\n",
    "            # product_shopify.product_type = product.product_type\n",
    "            logging.info(\"Product modified successfully!\")\n",
    "            print(\"Product already successfully!\")\n",
    "        \n",
    "        # Save the product\n",
    "        # product_shopify.save()\n",
    "\n",
    "        return product_shopify\n",
    "    except Exception as e:\n",
    "        logging.error(f\"Failed to create product: {str(e)}\")\n",
    "        return None"
   ]
  },
  {
   "cell_type": "code",
   "execution_count": 12,
   "metadata": {},
   "outputs": [],
   "source": [
    "# prod_links = letsgo(1)\n",
    "# for index, prod_link in enumerate(prod_links, start=1):\n",
    "#     print(prod_link)\n",
    "#     create_product(extract_data_from_url(prod_link))\n",
    "#     print(f\"{index}/{len(prod_links)}\\n\")"
   ]
  },
  {
   "cell_type": "code",
   "execution_count": 41,
   "metadata": {},
   "outputs": [
    {
     "data": {
      "text/plain": [
       "['https://komilfo.ua/en/product-category/komilfo-gel-polish/stone-collection-en/',\n",
       " 'https://komilfo.ua/en/product-category/komilfo-gel-polish/komilfo-liquid-glam-gel-en/',\n",
       " 'https://komilfo.ua/en/product-category/komilfo-gel-polish/stardust-glitter-en/',\n",
       " 'https://komilfo.ua/en/product-category/komilfo-gel-polish/kaleidoscopic-collection-en/',\n",
       " 'https://komilfo.ua/en/product-category/komilfo-gel-polish/macarons-collection/',\n",
       " 'https://komilfo.ua/en/product-category/komilfo-gel-polish/rior-collection/',\n",
       " 'https://komilfo.ua/en/product-category/komilfo-gel-polish/luminous-collection-en/',\n",
       " 'https://komilfo.ua/en/product-category/komilfo-gel-polish/holographic-collection/',\n",
       " 'https://komilfo.ua/en/product-category/komilfo-gel-polish/dragon-fruit-collection/',\n",
       " 'https://komilfo.ua/en/product-category/komilfo-gel-polish/moon-crush-collection/',\n",
       " 'https://komilfo.ua/en/product-category/komilfo-gel-polish/glow-attack-collection/',\n",
       " 'https://komilfo.ua/en/product-category/komilfo-gel-polish/deluxe-series-collection-15-ml/',\n",
       " 'https://komilfo.ua/en/product-category/komilfo-gel-polish/deluxe-series-collection/',\n",
       " 'https://komilfo.ua/en/product-category/komilfo-gel-polish/glitter-collection/',\n",
       " 'https://komilfo.ua/en/product-category/komilfo-gel-polish/cat-s-eye-collection/',\n",
       " 'https://komilfo.ua/ru/product-category/komilfo-gel-polish-ru/french-collection/',\n",
       " 'https://komilfo.ua/en/product-category/komilfo-gel-polish/termo-collection/',\n",
       " 'https://komilfo.ua/en/product-category/komilfo-gel-polish/neon-collection/']"
      ]
     },
     "execution_count": 41,
     "metadata": {},
     "output_type": "execute_result"
    }
   ],
   "source": [
    "extract_product_links('https://komilfo.ua/en/product-category/komilfo-gel-polish/')"
   ]
  },
  {
   "cell_type": "code",
   "execution_count": 44,
   "metadata": {},
   "outputs": [
    {
     "data": {
      "text/plain": [
       "['https://komilfo.ua/ru/product/gel-lak-komilfo-french-collection-f001-blednyj-lilovo-rozovyj-emal-dlya-frencha-15-ml/',\n",
       " 'https://komilfo.ua/ru/product/gel-lak-komilfo-deluxe-series-d200-svetlyj-rozovo-oranzhevyj-emal-dlya-frencha-8-ml/',\n",
       " 'https://komilfo.ua/ru/product/gel-lak-komilfo-french-collection-f002-nezhno-rozovyj-emal-dlya-frencha-15-ml/',\n",
       " 'https://komilfo.ua/ru/product/gel-lak-komilfo-french-collection-f002-nezhno-rozovyj-emal-dlya-frencha-8-ml/',\n",
       " 'https://komilfo.ua/ru/product/gel-lak-komilfo-french-collection-f003-blednyj-persikovo-rozovyj-emal-dlya-frencha-15-ml/',\n",
       " 'https://komilfo.ua/ru/product/gel-lak-komilfo-french-collection-f003-blednyj-persikovo-rozovyj-emal-dlya-frencha-8-ml/',\n",
       " 'https://komilfo.ua/ru/product/gel-lak-komilfo-french-collection-f004-zhemchuzhno-rozovyj-emal-dlya-frencha-15-ml/',\n",
       " 'https://komilfo.ua/ru/product/gel-lak-komilfo-french-collection-f004-zhemchuzhno-rozovyj-emal-dlya-frencha-8-ml/',\n",
       " 'https://komilfo.ua/ru/product/gel-lak-komilfo-french-collection-f005-teplyj-bezhevyj-emal-dlya-frencha-15-ml/',\n",
       " 'https://komilfo.ua/ru/product/gel-lak-komilfo-french-collection-f005-teplyj-bezhevyj-emal-dlya-frencha-8-ml/',\n",
       " 'https://komilfo.ua/ru/product/gel-lak-komilfo-french-collection-f006-15-ml/',\n",
       " 'https://komilfo.ua/ru/product/gel-lak-komilfo-french-collection-f006-oblachno-rozovyj-emal-dlya-frencha-8-ml/']"
      ]
     },
     "execution_count": 44,
     "metadata": {},
     "output_type": "execute_result"
    }
   ],
   "source": [
    "extract_product_links('https://komilfo.ua/ru/product-category/komilfo-gel-polish-ru/french-collection/')"
   ]
  },
  {
   "cell_type": "code",
   "execution_count": 31,
   "metadata": {},
   "outputs": [
    {
     "name": "stdout",
     "output_type": "stream",
     "text": [
      "<div aria-labelledby=\"tab-title-description\" class=\"woocommerce-Tabs-panel woocommerce-Tabs-panel--description panel entry-content wc-tab\" id=\"tab-description\" role=\"tabpanel\">\n",
      "<h2>Description</h2>\n",
      "<h2><span class=\"VIiyi\" lang=\"en\"><span class=\"JLqJ4b ChMk0b\" data-language-for-alternatives=\"en\" data-language-to-translate-into=\"ru\" data-number-of-phrases=\"1\" data-phrase-index=\"0\">The advantage of choosing Komilfo products:</span></span></h2>\n",
      "<ul>\n",
      "<li><strong>The new series of the updated Komilfo palette</strong> is high-quality gel polishes at an affordable price, developed by masters for masters!</li>\n",
      "<li>Soft, stylish shades, with small inclusions, are impressive and resemble an expensive and exquisite work of stone.</li>\n",
      "<li>The colors lay down softly, do not flow and do not require much effort in application, the particles do not bulge</li>\n",
      "</ul>\n",
      "<h3 class=\"text-dost-title\">TECHNOLOGY FOR APPLYING KOMILFO GEL POLISHES:</h3>\n",
      "<ol>\n",
      "<li>Do the standard nail preparation: peel off the previous coat, remove the cuticle, buff the surface and shape the nails as desired. Then it is recommended to clean the nail plate with a disinfectant and degreaser. If necessary, apply ultrabond – a special acid-free preparation for additional adhesion of subsequent coatings to the natural nail.</li>\n",
      "<li>Apply a thin layer of Komilfo base coat for gel polish on the nail, then cure it in a UV lamp for 2 minutes, or in an LED lamp for 30 seconds.</li>\n",
      "<li>Apply 2 coats of Komilfo color gel polish . Remember to seal every layer (including base and top). The polymerization time of the color gel polish in the LED lamp is 30 seconds. For UV and weak lamps, we recommend applying a thin layer of color gel polish, due to the high pigmentation of the gel polish. The polymerization time in a UV lamp is 2 minutes. <strong>Warning:</strong> if you want to use highly pigmented gel polishes, your UV lamp must be at least 36 W and the ice lamp must be at least 9 W, and the bulbs must be changed in a timely manner.</li>\n",
      "<li>Apply a thin layer of Komilfo Gel Polish Top Coat, cure in an LED lamp for 90 seconds. In a UV lamp, the maximum amount of time indicated on the timer.</li>\n",
      "<li>Apply cuticle oil when finished.</li>\n",
      "</ol>\n",
      "<p> </p>\n",
      "<h3><span class=\"VIiyi\" lang=\"en\"><span class=\"JLqJ4b ChMk0b\" data-language-for-alternatives=\"en\" data-language-to-translate-into=\"ru\" data-number-of-phrases=\"1\" data-phrase-index=\"0\">Composition of Komilfo gel polishes:</span></span></h3>\n",
      "<p>Acrylates Copolymer, HEMA, Trimethylbenzoyl Diphenylphosphine Oxide, Parfume, Pigments may contain [+/-]: CI 45380, CI 15850, CI 77491, CI 15985, CI 77492, CI 77007, CI 77510, CI 77742, CI 77289, CI 77499, CI 77891, CI 77000.</p>\n",
      "<p> </p>\n",
      "\n",
      "<ul>\n",
      "\n",
      "\n",
      "</ul>\n",
      "</div>\n"
     ]
    }
   ],
   "source": [
    "data = extract_data_from_url('https://komilfo.ua/en/product/gel-polish-komilfo-stone-collection-st002-dark-gray-with-crumbs-8-ml/')\n",
    "print(data.detail)\n"
   ]
  },
  {
   "cell_type": "code",
   "execution_count": null,
   "metadata": {},
   "outputs": [],
   "source": []
  }
 ],
 "metadata": {
  "kernelspec": {
   "display_name": "Python 3",
   "language": "python",
   "name": "python3"
  },
  "language_info": {
   "codemirror_mode": {
    "name": "ipython",
    "version": 3
   },
   "file_extension": ".py",
   "mimetype": "text/x-python",
   "name": "python",
   "nbconvert_exporter": "python",
   "pygments_lexer": "ipython3",
   "version": "3.10.12"
  }
 },
 "nbformat": 4,
 "nbformat_minor": 2
}
